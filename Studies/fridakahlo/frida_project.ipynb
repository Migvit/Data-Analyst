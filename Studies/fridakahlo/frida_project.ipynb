{
 "cells": [
  {
   "cell_type": "markdown",
   "metadata": {},
   "source": [
    "# Frida Kahlo Exhibition\n",
    "\n",
    "You've been hired to work on a retrospective of Frida Kahlo's work at a major museum. Your job is to put together the audio tour, but in order to do that you need to create a list of each painting featured in the exhibit, the date it was painted, and its spot in the tour. \n",
    "\n",
    "Use your knowledge of Python lists to create a master list of each painting, its date, and its audio tour ID. \n"
   ]
  },
  {
   "cell_type": "code",
   "execution_count": null,
   "metadata": {},
   "outputs": [],
   "source": [
    "paintings = [\"The Two Fridas\", \"My Dress Hangs Here\", \"Tree of Hope\", \"Self Portrait With Monkeys\"]"
   ]
  },
  {
   "cell_type": "code",
   "execution_count": null,
   "metadata": {},
   "outputs": [],
   "source": [
    "dates =[1939, 1933, 1946, 1940]"
   ]
  },
  {
   "cell_type": "code",
   "execution_count": 6,
   "metadata": {},
   "outputs": [
    {
     "name": "stdout",
     "output_type": "stream",
     "text": [
      "[('The Two Fridas', 1939), ('My Dress Hangs Here', 1933), ('Tree of Hope', 1946), ('Self Portrait With Monkeys', 1940)]\n"
     ]
    }
   ],
   "source": [
    "paintings = [\"The Two Fridas\", \"My Dress Hangs Here\", \"Tree of Hope\", \"Self Portrait With Monkeys\"]\n",
    "dates =[1939, 1933, 1946, 1940]\n",
    "\n",
    "paintings = list(zip(paintings, dates))\n",
    "\n",
    "print (paintings)"
   ]
  },
  {
   "cell_type": "code",
   "execution_count": 10,
   "metadata": {},
   "outputs": [
    {
     "name": "stdout",
     "output_type": "stream",
     "text": [
      "[('The Two Fridas', 1939), ('My Dress Hangs Here', 1933), ('Tree of Hope', 1946), ('Self Portrait With Monkeys', 1940), ('The Broken Column', '1944'), ('The Wounded Deer', '1946'), ('Me and My Doll', '1937')]\n"
     ]
    }
   ],
   "source": [
    "paintings = [\"The Two Fridas\", \"My Dress Hangs Here\", \"Tree of Hope\", \"Self Portrait With Monkeys\"]\n",
    "dates =[1939, 1933, 1946, 1940]\n",
    "\n",
    "paintings.append(\"The Broken Column\")\n",
    "paintings.append(\"The Wounded Deer\")\n",
    "paintings.append(\"Me and My Doll\")\n",
    "dates.append(\"1944\")\n",
    "dates.append(\"1946\")\n",
    "dates.append(\"1937\")\n",
    "\n",
    "paintings = list(zip(paintings, dates))\n",
    "\n",
    "print (paintings)\n",
    "\n"
   ]
  },
  {
   "cell_type": "code",
   "execution_count": null,
   "metadata": {},
   "outputs": [],
   "source": []
  },
  {
   "cell_type": "code",
   "execution_count": 14,
   "metadata": {},
   "outputs": [
    {
     "name": "stdout",
     "output_type": "stream",
     "text": [
      "[('The Two Fridas', 1939), ('My Dress Hangs Here', 1933), ('Tree of Hope', 1946), ('Self Portrait With Monkeys', 1940), ('The Broken Column', '1944'), ('The Wounded Deer', '1946'), ('Me and My Doll', '1937')]\n",
      "7\n"
     ]
    }
   ],
   "source": [
    "paintings = [\"The Two Fridas\", \"My Dress Hangs Here\", \"Tree of Hope\", \"Self Portrait With Monkeys\"]\n",
    "dates =[1939, 1933, 1946, 1940]\n",
    "\n",
    "paintings.append(\"The Broken Column\")\n",
    "paintings.append(\"The Wounded Deer\")\n",
    "paintings.append(\"Me and My Doll\")\n",
    "dates.append(\"1944\")\n",
    "dates.append(\"1946\")\n",
    "dates.append(\"1937\")\n",
    "\n",
    "paintings = list(zip(paintings, dates))\n",
    "\n",
    "print (paintings)\n",
    "\n",
    "paintings_length = len(paintings)\n",
    "print(paintings_length)"
   ]
  },
  {
   "cell_type": "code",
   "execution_count": 20,
   "metadata": {},
   "outputs": [
    {
     "name": "stdout",
     "output_type": "stream",
     "text": [
      "[('The Two Fridas', 1939), ('My Dress Hangs Here', 1933), ('Tree of Hope', 1946), ('Self Portrait With Monkeys', 1940), ('The Broken Column', '1944'), ('The Wounded Deer', '1946'), ('Me and My Doll', '1937')]\n",
      "7\n",
      "[1, 2, 3, 4, 5, 6, 7]\n"
     ]
    }
   ],
   "source": [
    "paintings = [\"The Two Fridas\", \"My Dress Hangs Here\", \"Tree of Hope\", \"Self Portrait With Monkeys\"]\n",
    "dates =[1939, 1933, 1946, 1940]\n",
    "\n",
    "paintings.append(\"The Broken Column\")\n",
    "paintings.append(\"The Wounded Deer\")\n",
    "paintings.append(\"Me and My Doll\")\n",
    "dates.append(\"1944\")\n",
    "dates.append(\"1946\")\n",
    "dates.append(\"1937\")\n",
    "\n",
    "paintings = list(zip(paintings, dates))\n",
    "\n",
    "print (paintings)\n",
    "\n",
    "paintings_length = len(paintings)\n",
    "print(paintings_length)\n",
    "\n",
    "audio_tour_number = list(range(1, paintings_length + 1))\n",
    "print(audio_tour_number)"
   ]
  },
  {
   "cell_type": "code",
   "execution_count": null,
   "metadata": {
    "collapsed": true,
    "jupyter": {
     "outputs_hidden": true
    }
   },
   "outputs": [],
   "source": [
    "paintings = [\"The Two Fridas\", \"My Dress Hangs Here\", \"Tree of Hope\", \"Self Portrait With Monkeys\"]\n",
    "dates =[1939, 1933, 1946, 1940]\n",
    "\n",
    "paintings.append(\"The Broken Column\")\n",
    "paintings.append(\"The Wounded Deer\")\n",
    "paintings.append(\"Me and My Doll\")\n",
    "dates.append(\"1944\")\n",
    "dates.append(\"1946\")\n",
    "dates.append(\"1937\")\n",
    "\n",
    "paintings = list(zip(paintings, dates))\n",
    "\n",
    "print (paintings)\n",
    "\n",
    "paintings_length = len(paintings)\n",
    "print(paintings_length)\n",
    "\n",
    "audio_tour_number = list(range(1, paintings_length + 1))\n",
    "print(audio_tour_number)\n",
    "\n",
    "master_list = list(zip(paintings, audio_tour_number))"
   ]
  },
  {
   "cell_type": "code",
   "execution_count": 22,
   "metadata": {},
   "outputs": [
    {
     "name": "stdout",
     "output_type": "stream",
     "text": [
      "[('The Two Fridas', 1939), ('My Dress Hangs Here', 1933), ('Tree of Hope', 1946), ('Self Portrait With Monkeys', 1940), ('The Broken Column', '1944'), ('The Wounded Deer', '1946'), ('Me and My Doll', '1937')]\n",
      "7\n",
      "[1, 2, 3, 4, 5, 6, 7]\n",
      "[(('The Two Fridas', 1939), 1), (('My Dress Hangs Here', 1933), 2), (('Tree of Hope', 1946), 3), (('Self Portrait With Monkeys', 1940), 4), (('The Broken Column', '1944'), 5), (('The Wounded Deer', '1946'), 6), (('Me and My Doll', '1937'), 7)]\n"
     ]
    }
   ],
   "source": [
    "paintings = [\"The Two Fridas\", \"My Dress Hangs Here\", \"Tree of Hope\", \"Self Portrait With Monkeys\"]\n",
    "dates =[1939, 1933, 1946, 1940]\n",
    "\n",
    "paintings.append(\"The Broken Column\")\n",
    "paintings.append(\"The Wounded Deer\")\n",
    "paintings.append(\"Me and My Doll\")\n",
    "dates.append(\"1944\")\n",
    "dates.append(\"1946\")\n",
    "dates.append(\"1937\")\n",
    "\n",
    "paintings = list(zip(paintings, dates))\n",
    "\n",
    "print (paintings)\n",
    "\n",
    "paintings_length = len(paintings)\n",
    "print(paintings_length)\n",
    "\n",
    "audio_tour_number = list(range(1, paintings_length + 1))\n",
    "print(audio_tour_number)\n",
    "\n",
    "master_list = list(zip(paintings, audio_tour_number))\n",
    "print (master_list)"
   ]
  }
 ],
 "metadata": {
  "kernelspec": {
   "display_name": "Python [conda env:base] *",
   "language": "python",
   "name": "conda-base-py"
  },
  "language_info": {
   "codemirror_mode": {
    "name": "ipython",
    "version": 3
   },
   "file_extension": ".py",
   "mimetype": "text/x-python",
   "name": "python",
   "nbconvert_exporter": "python",
   "pygments_lexer": "ipython3",
   "version": "3.12.7"
  }
 },
 "nbformat": 4,
 "nbformat_minor": 4
}
